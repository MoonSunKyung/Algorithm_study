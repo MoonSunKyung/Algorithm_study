{
  "nbformat": 4,
  "nbformat_minor": 0,
  "metadata": {
    "colab": {
      "name": "data_structure1_baekjoon.ipynb",
      "provenance": [],
      "collapsed_sections": [],
      "authorship_tag": "ABX9TyOErPzkLv57irN5IipMmhqP",
      "include_colab_link": true
    },
    "kernelspec": {
      "name": "python3",
      "display_name": "Python 3"
    },
    "language_info": {
      "name": "python"
    }
  },
  "cells": [
    {
      "cell_type": "markdown",
      "metadata": {
        "id": "view-in-github",
        "colab_type": "text"
      },
      "source": [
        "<a href=\"https://colab.research.google.com/github/MoonSunKyung/Algorithm_study/blob/main/data_structure1_baekjoon.ipynb\" target=\"_parent\"><img src=\"https://colab.research.google.com/assets/colab-badge.svg\" alt=\"Open In Colab\"/></a>"
      ]
    },
    {
      "cell_type": "code",
      "execution_count": null,
      "metadata": {
        "id": "qUW_sqjxNDfP"
      },
      "outputs": [],
      "source": [
        "#10828_stack\n",
        "# 정수를 저장하는 스택을 구현한 다음, 입력으로 주어지는 명령을 처리하는 프로그램을 작성하시오.\n",
        "\n",
        "# push X: 정수 X를 스택에 넣는 연산이다.\n",
        "# pop: 스택에서 가장 위에 있는 정수를 빼고, 그 수를 출력한다. 만약 스택에 들어있는 정수가 없는 경우에는 -1을 출력한다.\n",
        "# size: 스택에 들어있는 정수의 개수를 출력한다.\n",
        "# empty: 스택이 비어있으면 1, 아니면 0을 출력한다.\n",
        "# top: 스택의 가장 위에 있는 정수를 출력한다. 만약 스택에 들어있는 정수가 없는 경우에는 -1을 출력한다.\n",
        "\n",
        "#첫째 줄에 주어지는 명령의 수 N (1 ≤ N ≤ 10,000)이 주어진다. 둘째 줄부터 N개의 줄에는 명령이 하나씩 주어진다. \n",
        "#주어지는 정수는 1보다 크거나 같고, 100,000보다 작거나 같다. 문제에 나와있지 않은 명령이 주어지는 경우는 없다."
      ]
    },
    {
      "cell_type": "code",
      "source": [
        "input_num = int(input().strip())\n",
        "\n",
        "stack = []\n",
        "for i in range(input_num):\n",
        "  input_cmd = input().rstrip()\n",
        "  cmd_list = input_cmd.split()\n",
        "\n",
        "  if cmd_list[0] == \"push\":\n",
        "    stack.append(int(cmd_list[1]))\n",
        "\n",
        "  if cmd_list[0] == \"pop\":\n",
        "    if stack:\n",
        "      print(stack.pop())\n",
        "    else:\n",
        "      print('-1')\n",
        "\n",
        "  if cmd_list[0] == \"size\":\n",
        "    print(len(stack))\n",
        "\n",
        "  if cmd_list[0] == \"empty\":\n",
        "    if not stack:\n",
        "      print('1')\n",
        "    else:\n",
        "      print('0')\n",
        "\n",
        "  if cmd_list[0] == \"top\":\n",
        "    print(stack[-1])"
      ],
      "metadata": {
        "id": "BIYBdC6Z9QNN",
        "colab": {
          "base_uri": "https://localhost:8080/"
        },
        "outputId": "5c460579-cfa9-4e9d-d1f4-aeb91409b0cd"
      },
      "execution_count": null,
      "outputs": [
        {
          "output_type": "stream",
          "name": "stdout",
          "text": [
            "3\n",
            "push 3\n",
            "push 4\n",
            "pop\n",
            "4\n"
          ]
        }
      ]
    },
    {
      "cell_type": "code",
      "source": [
        "#괄호 문자열(Parenthesis String, PS)은 두 개의 괄호 기호인 ‘(’ 와 ‘)’ 만으로 구성되어 있는 문자열이다. \n",
        "#그 중에서 괄호의 모양이 바르게 구성된 문자열을 올바른 괄호 문자열(Valid PS, VPS)이라고 부른다.\n",
        "#한 쌍의 괄호 기호로 된 “( )” 문자열은 기본 VPS 이라고 부른다. 만일 x 가 VPS 라면 이것을 하나의 괄호에 넣은 새로운 문자열 “(x)”도 VPS 가 된다. \n",
        "#그리고 두 VPS x 와 y를 접합(concatenation)시킨 새로운 문자열 xy도 VPS 가 된다. 예를 들어 “(())()”와 “((()))” 는 VPS 이지만\n",
        "#“(()(”, “(())()))” , 그리고 “(()” 는 모두 VPS 가 아닌 문자열이다. \n",
        "\n",
        "#여러분은 입력으로 주어진 괄호 문자열이 VPS 인지 아닌지를 판단해서 그 결과를 YES 와 NO 로 나타내어야 한다. \n",
        "\n",
        "#입력 데이터는 표준 입력을 사용한다. 입력은 T개의 테스트 데이터로 주어진다. 입력의 첫 번째 줄에는 입력 데이터의 수를 나타내는 정수 T가 주어진다.\n",
        "# 각 테스트 데이터의 첫째 줄에는 괄호 문자열이 한 줄에 주어진다. 하나의 괄호 문자열의 길이는 2 이상 50 이하이다. "
      ],
      "metadata": {
        "id": "CCUR7P2btSKn"
      },
      "execution_count": null,
      "outputs": []
    },
    {
      "cell_type": "code",
      "source": [
        "#idea : 가장 작은 단위의 ()를 지워나가자, 마지막까지 괄호가 삭제되지 않으면 -> NO / 전부 삭제되면 -> YES\n",
        "# T = int(input().strip())\n",
        "\n",
        "# for i in range(T):\n",
        "#   ps = list(input())\n",
        "#   if len(ps)%2 != 0:\n",
        "#     print('NO')\n",
        "#   for i in range(len(ps)):\n",
        "#     if i+1 == len(ps):\n",
        "#       break\n",
        "\n",
        "#     if ps[i] == '(' and ps[i+1] == ')':\n",
        "#       ps.pop(i)\n",
        "#       ps.pop(i+1)\n",
        "    \n",
        "      "
      ],
      "metadata": {
        "colab": {
          "base_uri": "https://localhost:8080/",
          "height": 574
        },
        "id": "p0RP5WA8vRHh",
        "outputId": "5c70840b-e9db-47d9-e08f-3671ca4a52f6"
      },
      "execution_count": null,
      "outputs": [
        {
          "output_type": "error",
          "ename": "KeyboardInterrupt",
          "evalue": "ignored",
          "traceback": [
            "\u001b[0;31m---------------------------------------------------------------------------\u001b[0m",
            "\u001b[0;31mKeyboardInterrupt\u001b[0m                         Traceback (most recent call last)",
            "\u001b[0;32m/usr/local/lib/python3.7/dist-packages/ipykernel/kernelbase.py\u001b[0m in \u001b[0;36m_input_request\u001b[0;34m(self, prompt, ident, parent, password)\u001b[0m\n\u001b[1;32m    728\u001b[0m             \u001b[0;32mtry\u001b[0m\u001b[0;34m:\u001b[0m\u001b[0;34m\u001b[0m\u001b[0;34m\u001b[0m\u001b[0m\n\u001b[0;32m--> 729\u001b[0;31m                 \u001b[0mident\u001b[0m\u001b[0;34m,\u001b[0m \u001b[0mreply\u001b[0m \u001b[0;34m=\u001b[0m \u001b[0mself\u001b[0m\u001b[0;34m.\u001b[0m\u001b[0msession\u001b[0m\u001b[0;34m.\u001b[0m\u001b[0mrecv\u001b[0m\u001b[0;34m(\u001b[0m\u001b[0mself\u001b[0m\u001b[0;34m.\u001b[0m\u001b[0mstdin_socket\u001b[0m\u001b[0;34m,\u001b[0m \u001b[0;36m0\u001b[0m\u001b[0;34m)\u001b[0m\u001b[0;34m\u001b[0m\u001b[0;34m\u001b[0m\u001b[0m\n\u001b[0m\u001b[1;32m    730\u001b[0m             \u001b[0;32mexcept\u001b[0m \u001b[0mException\u001b[0m\u001b[0;34m:\u001b[0m\u001b[0;34m\u001b[0m\u001b[0;34m\u001b[0m\u001b[0m\n",
            "\u001b[0;32m/usr/local/lib/python3.7/dist-packages/jupyter_client/session.py\u001b[0m in \u001b[0;36mrecv\u001b[0;34m(self, socket, mode, content, copy)\u001b[0m\n\u001b[1;32m    802\u001b[0m         \u001b[0;32mtry\u001b[0m\u001b[0;34m:\u001b[0m\u001b[0;34m\u001b[0m\u001b[0;34m\u001b[0m\u001b[0m\n\u001b[0;32m--> 803\u001b[0;31m             \u001b[0mmsg_list\u001b[0m \u001b[0;34m=\u001b[0m \u001b[0msocket\u001b[0m\u001b[0;34m.\u001b[0m\u001b[0mrecv_multipart\u001b[0m\u001b[0;34m(\u001b[0m\u001b[0mmode\u001b[0m\u001b[0;34m,\u001b[0m \u001b[0mcopy\u001b[0m\u001b[0;34m=\u001b[0m\u001b[0mcopy\u001b[0m\u001b[0;34m)\u001b[0m\u001b[0;34m\u001b[0m\u001b[0;34m\u001b[0m\u001b[0m\n\u001b[0m\u001b[1;32m    804\u001b[0m         \u001b[0;32mexcept\u001b[0m \u001b[0mzmq\u001b[0m\u001b[0;34m.\u001b[0m\u001b[0mZMQError\u001b[0m \u001b[0;32mas\u001b[0m \u001b[0me\u001b[0m\u001b[0;34m:\u001b[0m\u001b[0;34m\u001b[0m\u001b[0;34m\u001b[0m\u001b[0m\n",
            "\u001b[0;32m/usr/local/lib/python3.7/dist-packages/zmq/sugar/socket.py\u001b[0m in \u001b[0;36mrecv_multipart\u001b[0;34m(self, flags, copy, track)\u001b[0m\n\u001b[1;32m    726\u001b[0m         \"\"\"\n\u001b[0;32m--> 727\u001b[0;31m         \u001b[0mparts\u001b[0m \u001b[0;34m=\u001b[0m \u001b[0;34m[\u001b[0m\u001b[0mself\u001b[0m\u001b[0;34m.\u001b[0m\u001b[0mrecv\u001b[0m\u001b[0;34m(\u001b[0m\u001b[0mflags\u001b[0m\u001b[0;34m,\u001b[0m \u001b[0mcopy\u001b[0m\u001b[0;34m=\u001b[0m\u001b[0mcopy\u001b[0m\u001b[0;34m,\u001b[0m \u001b[0mtrack\u001b[0m\u001b[0;34m=\u001b[0m\u001b[0mtrack\u001b[0m\u001b[0;34m)\u001b[0m\u001b[0;34m]\u001b[0m\u001b[0;34m\u001b[0m\u001b[0;34m\u001b[0m\u001b[0m\n\u001b[0m\u001b[1;32m    728\u001b[0m         \u001b[0;31m# have first part already, only loop while more to receive\u001b[0m\u001b[0;34m\u001b[0m\u001b[0;34m\u001b[0m\u001b[0;34m\u001b[0m\u001b[0m\n",
            "\u001b[0;32mzmq/backend/cython/socket.pyx\u001b[0m in \u001b[0;36mzmq.backend.cython.socket.Socket.recv\u001b[0;34m()\u001b[0m\n",
            "\u001b[0;32mzmq/backend/cython/socket.pyx\u001b[0m in \u001b[0;36mzmq.backend.cython.socket.Socket.recv\u001b[0;34m()\u001b[0m\n",
            "\u001b[0;32mzmq/backend/cython/socket.pyx\u001b[0m in \u001b[0;36mzmq.backend.cython.socket._recv_copy\u001b[0;34m()\u001b[0m\n",
            "\u001b[0;32m/usr/local/lib/python3.7/dist-packages/zmq/backend/cython/checkrc.pxd\u001b[0m in \u001b[0;36mzmq.backend.cython.checkrc._check_rc\u001b[0;34m()\u001b[0m\n",
            "\u001b[0;31mKeyboardInterrupt\u001b[0m: ",
            "\nDuring handling of the above exception, another exception occurred:\n",
            "\u001b[0;31mKeyboardInterrupt\u001b[0m                         Traceback (most recent call last)",
            "\u001b[0;32m<ipython-input-20-58bc0bce3388>\u001b[0m in \u001b[0;36m<module>\u001b[0;34m()\u001b[0m\n\u001b[1;32m      1\u001b[0m \u001b[0;31m#idea : 가장 작은 단위의 ()를 지워나가자, 마지막까지 괄호가 삭제되지 않으면 -> NO / 전부 삭제되면 -> YES\u001b[0m\u001b[0;34m\u001b[0m\u001b[0;34m\u001b[0m\u001b[0;34m\u001b[0m\u001b[0m\n\u001b[0;32m----> 2\u001b[0;31m \u001b[0mT\u001b[0m \u001b[0;34m=\u001b[0m \u001b[0mint\u001b[0m\u001b[0;34m(\u001b[0m\u001b[0minput\u001b[0m\u001b[0;34m(\u001b[0m\u001b[0;34m)\u001b[0m\u001b[0;34m.\u001b[0m\u001b[0mstrip\u001b[0m\u001b[0;34m(\u001b[0m\u001b[0;34m)\u001b[0m\u001b[0;34m)\u001b[0m\u001b[0;34m\u001b[0m\u001b[0;34m\u001b[0m\u001b[0m\n\u001b[0m\u001b[1;32m      3\u001b[0m \u001b[0;34m\u001b[0m\u001b[0m\n\u001b[1;32m      4\u001b[0m \u001b[0;32mfor\u001b[0m \u001b[0mi\u001b[0m \u001b[0;32min\u001b[0m \u001b[0mrange\u001b[0m\u001b[0;34m(\u001b[0m\u001b[0minput_num\u001b[0m\u001b[0;34m)\u001b[0m\u001b[0;34m:\u001b[0m\u001b[0;34m\u001b[0m\u001b[0;34m\u001b[0m\u001b[0m\n\u001b[1;32m      5\u001b[0m   \u001b[0mps\u001b[0m \u001b[0;34m=\u001b[0m \u001b[0mlist\u001b[0m\u001b[0;34m(\u001b[0m\u001b[0minput\u001b[0m\u001b[0;34m(\u001b[0m\u001b[0;34m)\u001b[0m\u001b[0;34m)\u001b[0m\u001b[0;34m\u001b[0m\u001b[0;34m\u001b[0m\u001b[0m\n",
            "\u001b[0;32m/usr/local/lib/python3.7/dist-packages/ipykernel/kernelbase.py\u001b[0m in \u001b[0;36mraw_input\u001b[0;34m(self, prompt)\u001b[0m\n\u001b[1;32m    702\u001b[0m             \u001b[0mself\u001b[0m\u001b[0;34m.\u001b[0m\u001b[0m_parent_ident\u001b[0m\u001b[0;34m,\u001b[0m\u001b[0;34m\u001b[0m\u001b[0;34m\u001b[0m\u001b[0m\n\u001b[1;32m    703\u001b[0m             \u001b[0mself\u001b[0m\u001b[0;34m.\u001b[0m\u001b[0m_parent_header\u001b[0m\u001b[0;34m,\u001b[0m\u001b[0;34m\u001b[0m\u001b[0;34m\u001b[0m\u001b[0m\n\u001b[0;32m--> 704\u001b[0;31m             \u001b[0mpassword\u001b[0m\u001b[0;34m=\u001b[0m\u001b[0;32mFalse\u001b[0m\u001b[0;34m,\u001b[0m\u001b[0;34m\u001b[0m\u001b[0;34m\u001b[0m\u001b[0m\n\u001b[0m\u001b[1;32m    705\u001b[0m         )\n\u001b[1;32m    706\u001b[0m \u001b[0;34m\u001b[0m\u001b[0m\n",
            "\u001b[0;32m/usr/local/lib/python3.7/dist-packages/ipykernel/kernelbase.py\u001b[0m in \u001b[0;36m_input_request\u001b[0;34m(self, prompt, ident, parent, password)\u001b[0m\n\u001b[1;32m    732\u001b[0m             \u001b[0;32mexcept\u001b[0m \u001b[0mKeyboardInterrupt\u001b[0m\u001b[0;34m:\u001b[0m\u001b[0;34m\u001b[0m\u001b[0;34m\u001b[0m\u001b[0m\n\u001b[1;32m    733\u001b[0m                 \u001b[0;31m# re-raise KeyboardInterrupt, to truncate traceback\u001b[0m\u001b[0;34m\u001b[0m\u001b[0;34m\u001b[0m\u001b[0;34m\u001b[0m\u001b[0m\n\u001b[0;32m--> 734\u001b[0;31m                 \u001b[0;32mraise\u001b[0m \u001b[0mKeyboardInterrupt\u001b[0m\u001b[0;34m\u001b[0m\u001b[0;34m\u001b[0m\u001b[0m\n\u001b[0m\u001b[1;32m    735\u001b[0m             \u001b[0;32melse\u001b[0m\u001b[0;34m:\u001b[0m\u001b[0;34m\u001b[0m\u001b[0;34m\u001b[0m\u001b[0m\n\u001b[1;32m    736\u001b[0m                 \u001b[0;32mbreak\u001b[0m\u001b[0;34m\u001b[0m\u001b[0;34m\u001b[0m\u001b[0m\n",
            "\u001b[0;31mKeyboardInterrupt\u001b[0m: "
          ]
        }
      ]
    },
    {
      "cell_type": "code",
      "source": [
        "#큐2\n",
        "\n",
        "#명령은 총 여섯 가지이다.\n",
        "\n",
        "# push X: 정수 X를 큐에 넣는 연산이다.\n",
        "# pop: 큐에서 가장 앞에 있는 정수를 빼고, 그 수를 출력한다. 만약 큐에 들어있는 정수가 없는 경우에는 -1을 출력한다.\n",
        "# size: 큐에 들어있는 정수의 개수를 출력한다.\n",
        "# empty: 큐가 비어있으면 1, 아니면 0을 출력한다.\n",
        "# front: 큐의 가장 앞에 있는 정수를 출력한다. 만약 큐에 들어있는 정수가 없는 경우에는 -1을 출력한다.\n",
        "# back: 큐의 가장 뒤에 있는 정수를 출력한다. 만약 큐에 들어있는 정수가 없는 경우에는 -1을 출력한다."
      ],
      "metadata": {
        "id": "RIL5CqIq6-3L"
      },
      "execution_count": null,
      "outputs": []
    },
    {
      "cell_type": "code",
      "source": [
        "N = int(input().strip())\n",
        "\n",
        "queue = []\n",
        "\n",
        "for i in range(N):\n",
        "  cmd = input()\n",
        "  cmd_list = cmd.split()\n",
        "  \n",
        "  if cmd_list[0] == 'push':\n",
        "    queue.append(cmd_list[1])\n",
        "  if cmd_list[0] == 'pop':\n",
        "    print(queue.pop(0))\n",
        "  if cmd_list[0] == 'size':\n",
        "    print(len(queue))\n",
        "  if cmd_list[0] == 'empty':\n",
        "    if not queue:\n",
        "      print('1')\n",
        "    else:\n",
        "      print('0')\n",
        "  if cmd_list[0] == 'front':\n",
        "    if not queue:\n",
        "      print('-1')\n",
        "    else:\n",
        "      print(queue[0])\n",
        "  if cmd_list[0] == 'back':\n",
        "    if not queue:\n",
        "      print('-1')\n",
        "    else:\n",
        "      print(queue[-1])"
      ],
      "metadata": {
        "colab": {
          "base_uri": "https://localhost:8080/"
        },
        "id": "Oim0-k-V2cue",
        "outputId": "0556010a-9feb-4f96-9f2c-180bc45462e2"
      },
      "execution_count": null,
      "outputs": [
        {
          "output_type": "stream",
          "name": "stdout",
          "text": [
            "3\n",
            "push 4\n",
            "push 3\n",
            "front\n",
            "4\n"
          ]
        }
      ]
    },
    {
      "cell_type": "code",
      "source": [
        "# 1158번\n",
        "\n",
        "# 요세푸스 문제는 다음과 같다.\n",
        "# 1번부터 N번까지 N명의 사람이 원을 이루면서 앉아있고, 양의 정수 K(≤ N)가 주어진다.\n",
        "# 이제 순서대로 K번째 사람을 제거한다. 한 사람이 제거되면 남은 사람들로 이루어진 원을 따라 이 과정을 계속해 나간다.\n",
        "# 이 과정은 N명의 사람이 모두 제거될 때까지 계속된다. 원에서 사람들이 제거되는 순서를 (N, K)-요세푸스 순열이라고 한다.\n",
        "# 예를 들어 (7, 3)-요세푸스 순열은 <3, 6, 2, 7, 5, 1, 4>이다.\n",
        "\n",
        "# N과 K가 주어지면 (N, K)-요세푸스 순열을 구하는 프로그램을 작성하시오.\n",
        "\n",
        "# 첫째 줄에 N과 K가 빈 칸을 사이에 두고 순서대로 주어진다. (1 ≤ K ≤ N ≤ 5,000)"
      ],
      "metadata": {
        "id": "od3yQNFdneZ_"
      },
      "execution_count": null,
      "outputs": []
    },
    {
      "cell_type": "code",
      "source": [
        "#idea : linked list로 생각해서 index 3을 더할 때마다 지워나가는건 어떨까\n"
      ],
      "metadata": {
        "id": "ECN18Vitntno"
      },
      "execution_count": null,
      "outputs": []
    },
    {
      "cell_type": "code",
      "source": [
        "#10866번\n",
        "\n",
        "# 정수를 저장하는 덱(Deque)를 구현한 다음, 입력으로 주어지는 명령을 처리하는 프로그램을 작성하시오.\n",
        "\n",
        "# 명령은 총 여덟 가지이다.\n",
        "\n",
        "# push_front X: 정수 X를 덱의 앞에 넣는다.\n",
        "# push_back X: 정수 X를 덱의 뒤에 넣는다.\n",
        "# pop_front: 덱의 가장 앞에 있는 수를 빼고, 그 수를 출력한다. 만약, 덱에 들어있는 정수가 없는 경우에는 -1을 출력한다.\n",
        "# pop_back: 덱의 가장 뒤에 있는 수를 빼고, 그 수를 출력한다. 만약, 덱에 들어있는 정수가 없는 경우에는 -1을 출력한다.\n",
        "# size: 덱에 들어있는 정수의 개수를 출력한다.\n",
        "# empty: 덱이 비어있으면 1을, 아니면 0을 출력한다.\n",
        "# front: 덱의 가장 앞에 있는 정수를 출력한다. 만약 덱에 들어있는 정수가 없는 경우에는 -1을 출력한다.\n",
        "# back: 덱의 가장 뒤에 있는 정수를 출력한다. 만약 덱에 들어있는 정수가 없는 경우에는 -1을 출력한다."
      ],
      "metadata": {
        "id": "yaWtOWp1q0Mi"
      },
      "execution_count": null,
      "outputs": []
    },
    {
      "cell_type": "code",
      "source": [
        "# 검증필요\n",
        "\n",
        "N = int(input().strip())\n",
        "\n",
        "deque = []\n",
        "for i in range(N):\n",
        "  cmd = input()\n",
        "  cmd_list = cmd.split()\n",
        "  \n",
        "  if cmd_list[0] == 'push_front':\n",
        "    deque.insert(0,cmd_list[1])\n",
        "  if cmd_list[0] == 'push_back':\n",
        "    deque.append(cmd_list[1])\n",
        "  if cmd_list[0] == 'pop_front':\n",
        "    print(deque.pop(0))\n",
        "  if cmd_list[0] == 'pop_back':\n",
        "    print(deque.pop(-1))\n",
        "  if cmd_list[0] == 'size':\n",
        "    print(len(deque))\n",
        "  if cmd_list[0] == 'empty':\n",
        "    if not deque:\n",
        "      print('1')\n",
        "    else:\n",
        "      print('0')\n",
        "  if cmd_list[0] == 'front':\n",
        "    if not deque:\n",
        "      print('-1')\n",
        "    else:\n",
        "      print(deque[0])\n",
        "  if cmd_list[0] == 'back':\n",
        "    if not deque:\n",
        "      print('-1')\n",
        "    else:\n",
        "      print(deque[-1])"
      ],
      "metadata": {
        "id": "K1mq0kXJsI_R"
      },
      "execution_count": null,
      "outputs": []
    },
    {
      "cell_type": "code",
      "source": [
        "#1874번\n",
        "\n",
        "# 스택 (stack)은 기본적인 자료구조 중 하나로, 컴퓨터 프로그램을 작성할 때 자주 이용되는 개념이다. \n",
        "# 스택은 자료를 넣는 (push) 입구와 자료를 뽑는 (pop) 입구가 같아 제일 나중에 들어간 자료가 제일 먼저 나오는 (LIFO, Last in First out) 특성을 가지고 있다.\n",
        "\n",
        "# 1부터 n까지의 수를 스택에 넣었다가 뽑아 늘어놓음으로써, 하나의 수열을 만들 수 있다. \n",
        "# 이때, 스택에 push하는 순서는 반드시 오름차순을 지키도록 한다고 하자. \n",
        "# 임의의 수열이 주어졌을 때 스택을 이용해 그 수열을 만들 수 있는지 없는지, 있다면 어떤 순서로 push와 pop 연산을 수행해야 하는지를 알아낼 수 있다. \n",
        "# 이를 계산하는 프로그램을 작성하라."
      ],
      "metadata": {
        "id": "0rxdrPcMvWKl"
      },
      "execution_count": null,
      "outputs": []
    },
    {
      "cell_type": "code",
      "source": [
        "# 이해안됨."
      ],
      "metadata": {
        "id": "djsPvAmovuqx"
      },
      "execution_count": null,
      "outputs": []
    },
    {
      "cell_type": "code",
      "source": [
        "#1935번\n",
        "\n",
        "#후위 표기식과 각 피연산자에 대응하는 값들이 주어져 있을 때, 그 식을 계산하는 프로그램을 작성하시오."
      ],
      "metadata": {
        "id": "KfUR28q-yNBx"
      },
      "execution_count": null,
      "outputs": []
    },
    {
      "cell_type": "code",
      "source": [
        "# operand_num = int(input().strip()) __________________________> 오류 발생\n",
        "# exp = input().strip()\n",
        "# operands = []\n",
        "\n",
        "# for i in range(operand_num):\n",
        "#   operand = int(input().strip())\n",
        "#   operands.append(operand)\n",
        "\n",
        "# stack = []\n",
        "# oper1 = 0\n",
        "# oper2 = 0\n",
        "\n",
        "# for i in range(len(exp)):\n",
        "#   if exp[i] != '*' and '/' and '-' and '+':\n",
        "#     stack.append(exp[i])\n",
        "\n",
        "#   elif exp[i] == '*':\n",
        "#     oper1 = int(stack.pop())\n",
        "#     oper2 = int(stack.pop())\n",
        "#     stack.append(oper1*oper2)\n",
        "  \n",
        "#   elif exp[i] == '/':\n",
        "#     oper1 = int(stack.pop())\n",
        "#     oper2 = int(stack.pop())\n",
        "#     stack.append(oper2/oper1)\n",
        "  \n",
        "#   elif exp[i] == '-':\n",
        "#     oper1 = int(stack.pop())\n",
        "#     oper2 = int(stack.pop())\n",
        "#     stack.append(oper2-oper1)\n",
        "\n",
        "#   elif exp[i] == '+':\n",
        "#     oper1 = int(stack.pop())\n",
        "#     oper2 = int(stack.pop())\n",
        "#     stack.append(oper2 + oper1)\n",
        "\n",
        "# print(stack[0])\n"
      ],
      "metadata": {
        "colab": {
          "base_uri": "https://localhost:8080/",
          "height": 381
        },
        "id": "Rwldv5fD1kWl",
        "outputId": "46b2f1ff-1776-4a2a-c99f-31c1bf931760"
      },
      "execution_count": null,
      "outputs": [
        {
          "name": "stdout",
          "output_type": "stream",
          "text": [
            "5\n",
            "ABC*+DC/-\n",
            "1\n",
            "2\n",
            "3\n",
            "4\n",
            "5\n"
          ]
        },
        {
          "output_type": "error",
          "ename": "ValueError",
          "evalue": "ignored",
          "traceback": [
            "\u001b[0;31m---------------------------------------------------------------------------\u001b[0m",
            "\u001b[0;31mValueError\u001b[0m                                Traceback (most recent call last)",
            "\u001b[0;32m<ipython-input-5-bca49558ecaf>\u001b[0m in \u001b[0;36m<module>\u001b[0;34m()\u001b[0m\n\u001b[1;32m     16\u001b[0m \u001b[0;34m\u001b[0m\u001b[0m\n\u001b[1;32m     17\u001b[0m   \u001b[0;32melif\u001b[0m \u001b[0mexp\u001b[0m\u001b[0;34m[\u001b[0m\u001b[0mi\u001b[0m\u001b[0;34m]\u001b[0m \u001b[0;34m==\u001b[0m \u001b[0;34m'*'\u001b[0m\u001b[0;34m:\u001b[0m\u001b[0;34m\u001b[0m\u001b[0;34m\u001b[0m\u001b[0m\n\u001b[0;32m---> 18\u001b[0;31m     \u001b[0moper1\u001b[0m \u001b[0;34m=\u001b[0m \u001b[0mint\u001b[0m\u001b[0;34m(\u001b[0m\u001b[0mstack\u001b[0m\u001b[0;34m.\u001b[0m\u001b[0mpop\u001b[0m\u001b[0;34m(\u001b[0m\u001b[0;34m)\u001b[0m\u001b[0;34m)\u001b[0m\u001b[0;34m\u001b[0m\u001b[0;34m\u001b[0m\u001b[0m\n\u001b[0m\u001b[1;32m     19\u001b[0m     \u001b[0moper2\u001b[0m \u001b[0;34m=\u001b[0m \u001b[0mint\u001b[0m\u001b[0;34m(\u001b[0m\u001b[0mstack\u001b[0m\u001b[0;34m.\u001b[0m\u001b[0mpop\u001b[0m\u001b[0;34m(\u001b[0m\u001b[0;34m)\u001b[0m\u001b[0;34m)\u001b[0m\u001b[0;34m\u001b[0m\u001b[0;34m\u001b[0m\u001b[0m\n\u001b[1;32m     20\u001b[0m     \u001b[0mstack\u001b[0m\u001b[0;34m.\u001b[0m\u001b[0mappend\u001b[0m\u001b[0;34m(\u001b[0m\u001b[0moper1\u001b[0m\u001b[0;34m*\u001b[0m\u001b[0moper2\u001b[0m\u001b[0;34m)\u001b[0m\u001b[0;34m\u001b[0m\u001b[0;34m\u001b[0m\u001b[0m\n",
            "\u001b[0;31mValueError\u001b[0m: invalid literal for int() with base 10: 'C'"
          ]
        }
      ]
    },
    {
      "cell_type": "code",
      "source": [
        "#1966 _ cheat\n",
        "\n",
        "from collections import deque\n",
        "import sys\n",
        "\n",
        "t = int(input())\n",
        "\n",
        "for i in range(t):\n",
        "    n, m = map(int, input().split())\n",
        "    queue = deque(list(map(int, sys.stdin.readline().split())))\n",
        "    count = 0\n",
        "    while queue:\n",
        "        best = max(queue)  #현재의 최댓값이 가장 먼저 배출되므로 최댓값을 저장\n",
        "        front = queue.popleft() # 큐의 front를 뽑았으므로\n",
        "        m -= 1 # 내 위치가 한 칸 당겨진다.\n",
        "\n",
        "        if best == front: # 뽑은 숫자가 제일 큰 숫자일 때\n",
        "            count += 1 # 하나가 영원히 배출되므로 순번 하나 추가\n",
        "            if m < 0: # m이 0이라는 것은 뽑은 숫자가 내 숫자라는 뜻.\n",
        "                print(count)\n",
        "                break\n",
        "\n",
        "        else:   # 뽑은 숫자가 제일 큰 숫자가 아니면\n",
        "            queue.append(front) # 제일 뒤로 밀려나게 됨\n",
        "            if m < 0 :  # 제일 앞에서 뽑히면\n",
        "                m = len(queue) - 1 # 제일 뒤로 이동\n",
        "\n"
      ],
      "metadata": {
        "id": "TeT0bOxpE3V7",
        "colab": {
          "base_uri": "https://localhost:8080/"
        },
        "outputId": "017cea46-4bb2-4e51-803e-3e76c1798b92"
      },
      "execution_count": 1,
      "outputs": [
        {
          "name": "stdout",
          "output_type": "stream",
          "text": [
            "2\n",
            "1 0\n",
            "2 0\n"
          ]
        }
      ]
    },
    {
      "cell_type": "code",
      "source": [
        "#2346번 _cheat\n",
        "\n",
        "import sys\n",
        "from collections import deque\n",
        "def input():\n",
        "    return sys.stdin.readline().rstrip()\n",
        "\n",
        "N = int(input())\n",
        "queue = deque(list(map(int, input().split())))\n",
        "queue2 = deque([i for i in range(1,N+1)])  # 풍선 번호들을 큐2로 지정하고, 다른 큐와 같이 rotate 시킴\n",
        "while queue:\n",
        "    q = queue[0]\n",
        "    if q > 0:\n",
        "        queue.popleft()\n",
        "        queue.rotate(-q+1)\n",
        "        print(queue2.popleft())\n",
        "        queue2.rotate(-q+1)\n",
        "    else:\n",
        "        queue.popleft()\n",
        "        queue.rotate(-q)\n",
        "        print(queue2.popleft())\n",
        "        queue2.rotate(-q)"
      ],
      "metadata": {
        "id": "SAJ5gYD29Kjl"
      },
      "execution_count": null,
      "outputs": []
    },
    {
      "cell_type": "code",
      "source": [
        "#2800번\n",
        "# stack\n",
        "\n",
        "if __name__ == \"__main__\":\n",
        "    N = int(input())  # 탑의 개수\n",
        "    top_list = list(map(int, input().split()))  # 탑 리스트\n",
        "    stack = []\n",
        "    answer = []\n",
        "\n",
        "    for i in range(N):\n",
        "        while stack:\n",
        "            if stack[-1][1] > top_list[i]:  # 수신 가능한 상황\n",
        "                answer.append(stack[-1][0] + 1)\n",
        "                break\n",
        "            else:\n",
        "                stack.pop()\n",
        "        if not stack:  # 스택이 비면 레이저를 수신할 탑이 없다.\n",
        "            answer.append(0)\n",
        "        stack.append([i, top_list[i]])  # 인덱스, 값\n",
        "\n",
        "    print(\" \".join(map(str, answer)))\n"
      ],
      "metadata": {
        "id": "yhxZjozkFVYq"
      },
      "execution_count": null,
      "outputs": []
    },
    {
      "cell_type": "code",
      "source": [
        "#22942번 _ 모르겠음ㅠ_ㅜ"
      ],
      "metadata": {
        "id": "4KgtzaouK01l"
      },
      "execution_count": null,
      "outputs": []
    },
    {
      "cell_type": "code",
      "source": [
        "#1918번\n",
        "\n",
        "N = int(input())\n",
        "tokens =list(map(str,input().rstrip()))     # 입력받기\n",
        "lst = []        # 빈 리스트 생성\n",
        "stack = []      # 스택 생성\n",
        "prior = {'*':3,'/':3,'+':2,'-':2,'(':1}     # 우선순위 설정\n",
        "\n",
        "for n in range(len(tokens)):    \n",
        "  if tokens[n].isdigit(): # 숫자이면 바로 lst에 추가\n",
        "    lst.append(tokens[n])\n",
        "  elif tokens[n] == '(':  # (이면 stack에 추가\n",
        "    stack.append(tokens[n])\n",
        "  elif tokens[n] == ')':  # )가 나오면 stack에서 (가 나올때까지 pop처리 및 lst에 추가. \n",
        "    while stack[-1] != '(':\n",
        "      lst.append(stack.pop())\n",
        "    stack.pop() # (가 나타나면 pop처리\n",
        "  else:   # 그외에 경우 tokens[n]이 stack[-1]의 우선순위와 같거나 보다 작으면 tokens[n]의 우선순위가 더 커질때까지 pop\n",
        "    while stack and prior[tokens[n]] <= prior[stack[-1]]:\n",
        "      lst.append(stack.pop()) # pop한것들은 lst에 추가 \n",
        "    stack.append(tokens[n]) # 위의 조건이 완료 되면 stack에 추가\n",
        "\n",
        "while len(stack) != 0:  \n",
        "  lst.append(stack.pop())"
      ],
      "metadata": {
        "id": "PuVYdRbGLP8Z"
      },
      "execution_count": null,
      "outputs": []
    }
  ]
}